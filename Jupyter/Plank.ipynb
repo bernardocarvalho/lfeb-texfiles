{
 "cells": [
  {
   "cell_type": "markdown",
   "metadata": {},
   "source": [
    "# Experiência de Plank\n",
    "$$ E = h \\nu$$\n",
    "$$e V_s= h \\nu -W_O$$ $$ V_s=  \\frac{h}{e}  \\nu  - \\frac{W_O}{e} $$"
   ]
  },
  {
   "cell_type": "code",
   "execution_count": 27,
   "metadata": {
    "collapsed": true
   },
   "outputs": [],
   "source": [
    "#%matplotlib notebook\n",
    "%matplotlib inline\n",
    "import matplotlib.pyplot as plt\n",
    "#from matplotlib.ticker import MultipleLocator\n",
    "import numpy as np\n",
    "from scipy import constants # Constantes Físicas\n",
    "from scipy import stats\n",
    "import ipywidgets as widgets"
   ]
  },
  {
   "cell_type": "code",
   "execution_count": 28,
   "metadata": {},
   "outputs": [],
   "source": [
    "Freq = np.array([518.672, 548.996, 687.858, 740.858, 820.264]) * 1e12 # Thz\n",
    "cdo =np.array([578, 546.074, 435.835, 404.656, 365.483]) * 1e-9 # nm"
   ]
  },
  {
   "cell_type": "code",
   "execution_count": 29,
   "metadata": {},
   "outputs": [
    {
     "data": {
      "text/plain": [
       "array([  5.18672000e+14,   5.48996000e+14,   6.87858000e+14,\n",
       "         7.40858000e+14,   8.20264000e+14])"
      ]
     },
     "execution_count": 29,
     "metadata": {},
     "output_type": "execute_result"
    }
   ],
   "source": [
    "Freq"
   ]
  },
  {
   "cell_type": "code",
   "execution_count": 31,
   "metadata": {
    "collapsed": true
   },
   "outputs": [],
   "source": [
    "x=Freq\n",
    "y=x*constants.h/constants.e + 0.1*np.random.normal(size=len(x))"
   ]
  },
  {
   "cell_type": "code",
   "execution_count": 41,
   "metadata": {},
   "outputs": [
    {
     "data": {
      "text/plain": [
       "array([ 2.15376155,  2.35457729,  2.87824472,  2.808056  ,  3.12629502])"
      ]
     },
     "execution_count": 41,
     "metadata": {},
     "output_type": "execute_result"
    }
   ],
   "source": [
    "y\n"
   ]
  },
  {
   "cell_type": "markdown",
   "metadata": {},
   "source": [
    "https://docs.scipy.org/doc/scipy/reference/generated/scipy.stats.linregress.html#scipy.stats.linregress"
   ]
  },
  {
   "cell_type": "code",
   "execution_count": 42,
   "metadata": {},
   "outputs": [
    {
     "name": "stdout",
     "output_type": "stream",
     "text": [
      "slope:3.03747e-15\n",
      "intercept:0.649341 V\n",
      "('r-squared:', 0.9457195677124326)\n",
      "('p_value:', 0.0054573105046160971)\n",
      "slope std_err:4.20138e-16\n"
     ]
    }
   ],
   "source": [
    "slope, intercept, r_value, p_value, std_err = stats.linregress(x, y)\n",
    "print \"slope:%g\" %slope\n",
    "print \"intercept:%g V\" %intercept\n",
    "#print 'Vel= %g' %Var\n",
    "#print(\"slope:\", slope)\n",
    "print(\"r-squared:\", r_value**2)\n",
    "print(\"p_value:\", p_value)\n",
    "print \"slope std_err:%g\" %std_err"
   ]
  },
  {
   "cell_type": "code",
   "execution_count": 58,
   "metadata": {
    "scrolled": true
   },
   "outputs": [
    {
     "data": {
      "image/png": "[encoded data removed]",
      "text/plain": [
       "<matplotlib.figure.Figure at 0x9b6ec88>"
      ]
     },
     "metadata": {},
     "output_type": "display_data"
    }
   ],
   "source": [
    "#plt.plot(x, y, 'o', label='original data')\n",
    "plt.errorbar(x, y,  yerr=0.2, fmt='o', label='original data')\n",
    "\n",
    "plt.plot(x, intercept + slope*x, 'r', label='fitted line')\n",
    "plt.legend()\n",
    "plt.show()"
   ]
  },
  {
   "cell_type": "markdown",
   "metadata": {},
   "source": [
    "# Ajuste Manual"
   ]
  },
  {
   "cell_type": "code",
   "execution_count": 55,
   "metadata": {},
   "outputs": [
    {
     "data": {
      "application/vnd.jupyter.widget-view+json": {
       "model_id": "580ea9be6d5f4bb18519c8c54e66195f"
      }
     },
     "metadata": {},
     "output_type": "display_data"
    }
   ],
   "source": [
    "xm=np.array([0.0,  820.264]) * 1e12 # Thz\n",
    "def plotManual(a,b):\n",
    "    plt.plot(x, y, 'o', label='original data')#, autoscale_on=False, xlim=(0, 1e14), ylim=(0, 4))\n",
    "    plt.axis([0, 10.0e14, 0.0, 4.0])   # [ymin, ymax, zmin, zmax]\n",
    "    plt.plot(xm, a + b*1.0e-15*xm, 'r', label='fitted line')\n",
    "    plt.grid('on')\n",
    "    #plt.legend()\n",
    "    plt.xlabel('Freq/Hz')\n",
    "    plt.ylabel('Vs/V')\n",
    "    plt.legend(loc='upper center')\n",
    "    plt.show()\n",
    "\n",
    "widgets.interact(plotManual,  a=(0.0,4.0,0.1), b=(2,4,0.1));"
   ]
  },
  {
   "cell_type": "code",
   "execution_count": null,
   "metadata": {
    "collapsed": true
   },
   "outputs": [],
   "source": []
  }
 ],
 "metadata": {
  "kernelspec": {
   "display_name": "Python 2",
   "language": "python",
   "name": "python2"
  },
  "language_info": {
   "codemirror_mode": {
    "name": "ipython",
    "version": 2
   },
   "file_extension": ".py",
   "mimetype": "text/x-python",
   "name": "python",
   "nbconvert_exporter": "python",
   "pygments_lexer": "ipython2",
   "version": "2.7.13"
  }
 },
 "nbformat": 4,
 "nbformat_minor": 2
}
