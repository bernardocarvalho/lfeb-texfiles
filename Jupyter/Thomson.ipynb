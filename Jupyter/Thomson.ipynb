{
 "cells": [
  {
   "cell_type": "markdown",
   "metadata": {},
   "source": [
    "# Experiência de Thomson. \n",
    "## Determinação experimental da relação q/m do electrão"
   ]
  },
  {
   "cell_type": "code",
   "execution_count": 136,
   "metadata": {
    "collapsed": true
   },
   "outputs": [],
   "source": [
    "%matplotlib inline\n",
    "import matplotlib.pyplot as plt\n",
    "import numpy as np\n",
    "#import sympy as spy\n",
    "from scipy import constants # Constantes Físicas\n",
    "from IPython.core.interactiveshell import InteractiveShell\n",
    "InteractiveShell.ast_node_interactivity = \"all\""
   ]
  },
  {
   "cell_type": "markdown",
   "metadata": {},
   "source": [
    "### DETERMINAÇÃO DE q/m POR DEFLEXÃO MAGNÉTICA"
   ]
  },
  {
   "cell_type": "markdown",
   "metadata": {},
   "source": [
    "Raio da Trajectória: $R=\\frac{y^2 + z^2}{2z}$"
   ]
  },
  {
   "cell_type": "code",
   "execution_count": 137,
   "metadata": {
    "collapsed": true
   },
   "outputs": [],
   "source": [
    "def Rt(y, z):\n",
    "    return (y**2 + z**2)/(2*z)"
   ]
  },
  {
   "cell_type": "markdown",
   "metadata": {},
   "source": [
    "Coordenadas no ecran"
   ]
  },
  {
   "cell_type": "code",
   "execution_count": 164,
   "metadata": {
    "collapsed": true
   },
   "outputs": [],
   "source": [
    "yt=np.array([0.10, 0.10, 0.09, 0.09, 0.08])\n",
    "zt=np.array([0.01, 0.02, 0.01, 0.02, 0.01])"
   ]
  },
  {
   "cell_type": "code",
   "execution_count": 165,
   "metadata": {},
   "outputs": [
    {
     "data": {
      "text/plain": [
       "array([ 0.505 ,  0.26  ,  0.41  ,  0.2125,  0.325 ])"
      ]
     },
     "execution_count": 165,
     "metadata": {},
     "output_type": "execute_result"
    }
   ],
   "source": [
    "#for i in range(len(y)):\n",
    "#    Raio[i]=R(y,z)\n",
    "Raio=Rt(yt,zt)\n",
    "Raio"
   ]
  },
  {
   "cell_type": "markdown",
   "metadata": {},
   "source": [
    "Campo Magnetico $B_x = \\left(\\frac{4}{5}\\right)^{3/2} \\cdot \\frac{\\mu_0 n }{r} I$"
   ]
  },
  {
   "cell_type": "code",
   "execution_count": 140,
   "metadata": {
    "collapsed": true
   },
   "outputs": [],
   "source": [
    "nHel=320 # espiras \n",
    "rHel = 0.068 # raio bobinas de Helmholtz"
   ]
  },
  {
   "cell_type": "markdown",
   "metadata": {},
   "source": [
    "Medidas"
   ]
  },
  {
   "cell_type": "code",
   "execution_count": 141,
   "metadata": {},
   "outputs": [
    {
     "data": {
      "text/plain": [
       "array([ 0.1 ,  0.04,  0.2 ,  0.3 ,  0.25])"
      ]
     },
     "execution_count": 141,
     "metadata": {},
     "output_type": "execute_result"
    }
   ],
   "source": [
    "IHel=np.array([0.100,0.040, 0.2,0.3 , 0.25])"
   ]
  },
  {
   "cell_type": "code",
   "execution_count": 142,
   "metadata": {
    "collapsed": true
   },
   "outputs": [],
   "source": [
    "def Bx(I, n,r):\n",
    "    return (4.0/5)**(3/2)*constants.mu_0*n/r*I"
   ]
  },
  {
   "cell_type": "code",
   "execution_count": 143,
   "metadata": {},
   "outputs": [
    {
     "data": {
      "text/plain": [
       "array([ 0.00047309,  0.00018923,  0.00094617,  0.00141926,  0.00118272])"
      ]
     },
     "execution_count": 143,
     "metadata": {},
     "output_type": "execute_result"
    }
   ],
   "source": [
    "campoB=Bx(IHel,nHel,rHel)\n",
    "campoB"
   ]
  },
  {
   "cell_type": "markdown",
   "metadata": {},
   "source": [
    "Relação q/m  $\\frac{q}{m} = \\frac{2\\, U_a}{B^2\\,R^2}$"
   ]
  },
  {
   "cell_type": "code",
   "execution_count": 144,
   "metadata": {
    "collapsed": true
   },
   "outputs": [],
   "source": [
    "def q_m(U,B,R):\n",
    "    return 2*U/B**2/R**2"
   ]
  },
  {
   "cell_type": "code",
   "execution_count": 145,
   "metadata": {
    "collapsed": true
   },
   "outputs": [],
   "source": [
    "Ua=4500.0"
   ]
  },
  {
   "cell_type": "code",
   "execution_count": 146,
   "metadata": {},
   "outputs": [
    {
     "data": {
      "text/plain": [
       "array([  1.57680475e+11,   3.71786827e+12,   6.12750130e+06,\n",
       "         1.08852720e+07,   6.28123433e+06])"
      ]
     },
     "execution_count": 146,
     "metadata": {},
     "output_type": "execute_result"
    }
   ],
   "source": [
    "qm=q_m(Ua,campoB,Raio)\n",
    "qm"
   ]
  },
  {
   "cell_type": "markdown",
   "metadata": {},
   "source": [
    "## Cálculo de Incertezas\n",
    "### cálculo simbólico de derivadas parciais"
   ]
  },
  {
   "cell_type": "code",
   "execution_count": 147,
   "metadata": {
    "collapsed": true
   },
   "outputs": [],
   "source": [
    "import sympy as sp\n",
    "from scipy.misc import derivative\n",
    "from sympy.parsing.sympy_parser import parse_expr"
   ]
  },
  {
   "cell_type": "code",
   "execution_count": 148,
   "metadata": {
    "collapsed": true
   },
   "outputs": [],
   "source": [
    "#eq = 'k*a*b**2/c**2'\n",
    "eqRaio= '(y**2 + z**2)/(2*z)'\n",
    "#a = sp.Symbol('a')\n",
    "#%b = sp.Symbol('b')\n",
    "#%c = sp.Symbol('c')\n",
    "y, z = sp.symbols('y z')"
   ]
  },
  {
   "cell_type": "code",
   "execution_count": 149,
   "metadata": {},
   "outputs": [
    {
     "name": "stdout",
     "output_type": "stream",
     "text": [
      "y/z\n"
     ]
    }
   ],
   "source": [
    "dPy = sp.diff(eqRaio , y)\n",
    "print dPy"
   ]
  },
  {
   "cell_type": "code",
   "execution_count": 150,
   "metadata": {},
   "outputs": [
    {
     "name": "stdout",
     "output_type": "stream",
     "text": [
      "1 - (y**2 + z**2)/(2*z**2)\n"
     ]
    }
   ],
   "source": [
    "dPz = sp.diff(eqRaio , z)\n",
    "print dPz"
   ]
  },
  {
   "cell_type": "code",
   "execution_count": 151,
   "metadata": {},
   "outputs": [
    {
     "name": "stdout",
     "output_type": "stream",
     "text": [
      "1 - \\frac{y^{2} + z^{2}}{2 z^{2}}\n"
     ]
    }
   ],
   "source": [
    "print sp.latex(dPz)"
   ]
  },
  {
   "cell_type": "markdown",
   "metadata": {},
   "source": [
    "$$1 - \\frac{y^{2} + z^{2}}{2 z^{2}}$$\n"
   ]
  },
  {
   "cell_type": "code",
   "execution_count": 152,
   "metadata": {
    "collapsed": true
   },
   "outputs": [],
   "source": [
    "def errRtlin(y, ey, z, ez):\n",
    "    return np.abs(y/z)*ey + np.abs(1 - (y**2 + z**2)/(2*z**2))*ez"
   ]
  },
  {
   "cell_type": "markdown",
   "metadata": {},
   "source": [
    "Incertezas da Medidas"
   ]
  },
  {
   "cell_type": "code",
   "execution_count": 153,
   "metadata": {},
   "outputs": [
    {
     "data": {
      "text/plain": [
       "array([ 0.0995,  0.037 ,  4.4995,  1.237 ,  3.5995])"
      ]
     },
     "execution_count": 153,
     "metadata": {},
     "output_type": "execute_result"
    }
   ],
   "source": [
    "errRtlin(yt, 0.005, zt, 0.001)"
   ]
  },
  {
   "cell_type": "code",
   "execution_count": 154,
   "metadata": {
    "collapsed": true
   },
   "outputs": [],
   "source": [
    "eqQm= '2*U/B**2/R**2'\n",
    "U, B, R= sp.symbols('U B R')"
   ]
  },
  {
   "cell_type": "code",
   "execution_count": 155,
   "metadata": {},
   "outputs": [
    {
     "data": {
      "text/plain": [
       "2/(B**2*R**2)"
      ]
     },
     "execution_count": 155,
     "metadata": {},
     "output_type": "execute_result"
    }
   ],
   "source": [
    "dPQmU = sp.diff(eqQm , U)\n",
    "dPQmU"
   ]
  },
  {
   "cell_type": "code",
   "execution_count": 156,
   "metadata": {},
   "outputs": [
    {
     "data": {
      "text/plain": [
       "-4*U/(B**3*R**2)"
      ]
     },
     "execution_count": 156,
     "metadata": {},
     "output_type": "execute_result"
    }
   ],
   "source": [
    "dPQmB = sp.diff(eqQm , B)\n",
    "dPQmB"
   ]
  },
  {
   "cell_type": "code",
   "execution_count": 157,
   "metadata": {},
   "outputs": [
    {
     "data": {
      "text/plain": [
       "-4*U/(B**2*R**3)"
      ]
     },
     "execution_count": 157,
     "metadata": {},
     "output_type": "execute_result"
    }
   ],
   "source": [
    "dPQmR = sp.diff(eqQm , R)\n",
    "dPQmR"
   ]
  },
  {
   "cell_type": "code",
   "execution_count": 158,
   "metadata": {
    "collapsed": true
   },
   "outputs": [],
   "source": [
    "def errQmLin(U,eU, B, eB ,R, eR):\n",
    "    return np.abs(2/(B**2*R**2))*eU  + 4*U/(B**3*R**2)*eB  + 4*U/(B**2*R**3)*eR"
   ]
  },
  {
   "cell_type": "code",
   "execution_count": 159,
   "metadata": {},
   "outputs": [
    {
     "data": {
      "text/plain": [
       "array([  1.37555760e+11,   6.98151886e+12,   1.66573787e+06,\n",
       "         2.24559138e+06,   1.45018287e+06])"
      ]
     },
     "execution_count": 159,
     "metadata": {},
     "output_type": "execute_result"
    }
   ],
   "source": [
    "errQmLin(4500, 250.0, campoB, 1e-4 ,Raio, 0.0995)"
   ]
  },
  {
   "cell_type": "code",
   "execution_count": 160,
   "metadata": {},
   "outputs": [
    {
     "data": {
      "text/plain": [
       "<function __main__.Rt>"
      ]
     },
     "execution_count": 160,
     "metadata": {},
     "output_type": "execute_result"
    }
   ],
   "source": []
  },
  {
   "cell_type": "code",
   "execution_count": 161,
   "metadata": {},
   "outputs": [
    {
     "data": {
      "text/plain": [
       "2"
      ]
     },
     "execution_count": 161,
     "metadata": {},
     "output_type": "execute_result"
    }
   ],
   "source": [
    "\n"
   ]
  },
  {
   "cell_type": "code",
   "execution_count": null,
   "metadata": {
    "collapsed": true
   },
   "outputs": [],
   "source": []
  },
  {
   "cell_type": "code",
   "execution_count": null,
   "metadata": {
    "collapsed": true
   },
   "outputs": [],
   "source": []
  }
 ],
 "metadata": {
  "kernelspec": {
   "display_name": "Python 2",
   "language": "python",
   "name": "python2"
  },
  "language_info": {
   "codemirror_mode": {
    "name": "ipython",
    "version": 2
   },
   "file_extension": ".py",
   "mimetype": "text/x-python",
   "name": "python",
   "nbconvert_exporter": "python",
   "pygments_lexer": "ipython2",
   "version": "2.7.13"
  }
 },
 "nbformat": 4,
 "nbformat_minor": 2
}
