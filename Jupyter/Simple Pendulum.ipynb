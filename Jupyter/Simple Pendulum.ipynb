{
 "cells": [
  {
   "cell_type": "code",
   "execution_count": 1,
   "metadata": {},
   "outputs": [],
   "source": [
    "import numpy as np\n",
    "import matplotlib.pyplot as plt \n",
    "from scipy.integrate import odeint\n",
    "#import glob\n",
    "#import os\n",
    "\n",
    "def simple_pendulum_deriv(x, t, m, g, l): \n",
    "    \"\"\"The simple pendulum subject to zero damping and zero control input\n",
    "\n",
    "    Based on material from the MIT OCW subject \"Underactuated Robotics\"\n",
    "    \"lecture 2: the simple pendulum\" given by Russell Tedrake, the \n",
    "    maths and some of the related diagrams are given at about 51 minutes\n",
    "    in.\n",
    "    \"\"\"\n",
    "    nx = np.zeros(2)\n",
    "    nx[0] = x[1]\n",
    "    nx[1] = -(m * g * l * np.sin(x[0])) \n",
    "    return nx\n",
    "\n",
    "def plot_orbit( x0 ):\n",
    "    \"\"\"Plot the phase space of the pendulum\n",
    "\n",
    "    \"\"\"\n",
    "    # Pick ts to be sufficiently large (by inspection) to make sure\n",
    "    # that all of the cases of interest will have reached their \n",
    "    # homoclinic orbit\n",
    "    ts = np.linspace(0.0, 50.0, 1001)\n",
    "    ys = odeint(simple_pendulum_deriv, x0, ts, args = (1.0, 9.8, 1.0))\n",
    "    plt.plot(ys[:,0], ys[:,1])\n",
    "\n",
    "def pendulum_video( q0, ts, output_file):\n",
    "    ts = np.linspace(0.0, 5.0, 101)\n",
    "    qs = odeint(simple_pendulum_deriv, q0, ts, args = (1.0, 9.8, 1.0))\n",
    "    pendulum_video_sequence(qs, output_file)\n",
    "\n",
    "def plot_pendulum(q, length = 1.0):\n",
    "    xs = [  0.0,  length * np.sin(q[0]) ]\n",
    "    ys = [  0.0, -length * np.cos(q[0]) ]\n",
    "    plt.plot( xs, ys, 'b-', linewidth = 3 )\n",
    "    plt.plot( xs[1], ys[1], 'ro' )\n",
    "    plt.gca().set_xlim([-1.2, 1.2])\n",
    "    plt.gca().set_ylim([-1.2, 1.2])\n",
    "    plt.gca().set_aspect('equal')\n",
    "\n",
    "#def encode_video(input_pattern, output_filename):\n",
    "#    # taken (almost) directly from the matplotlib website:\n",
    "#    # http://matplotlib.sourceforge.net/faq/howto_faq.html#make-a-movie\n",
    "#    os.system(\"mencoder 'mf://%s' -mf type=png:fps=10 -ovc lavc -lavcopts vcodec\n",
    "\n",
    "#def pendulum_video_sequence(qs, output_filename):\n",
    "#    for n, q in enumerate(qs):\n",
    "#        print n, q\n",
    "#       plt.clf()\n",
    "#        plot_pendulum( q )\n",
    "##        plt.savefig( '_tmp%03d.png' % n )\n",
    "#    encode_video('_tmp*.png', output_filename)\n",
    "#    for fname in glob.glob('_tmp*.png'):\n",
    "#        os.remove(fname)\n",
    "\n",
    "def plot_interesting_orbits():\n",
    "    plt.clf()\n",
    "    # start with zero velocity at a number of differing angles\n",
    "    # scipy odeint does some pretty weird things if you have enough\n",
    "    # velocity to loop around\n",
    "    plot_orbit(np.array([np.pi * 0.25, 0.0]))\n",
    "    plot_orbit(np.array([np.pi * 0.5, 0.0]))\n",
    "    plot_orbit(np.array([np.pi * 0.9, 0.0]))\n",
    "    plot_orbit(np.array([np.pi * 0.999, 0.0]))\n",
    "    plt.title('homoclinic orbits for an undamped simpled pendulum')\n",
    "    plt.xlabel(r'$\\theta$')\n",
    "    plt.ylabel(r'$\\dot{\\theta}$')\n",
    "    plt.show()\n",
    "\n",
    "def interesting_videos():\n",
    "    ts = np.linspace(0.0, 50.0, 501)\n",
    "    pendulum_video( np.array([np.pi/2.0, 0.0]), ts, 'undamped_simple_pendulum01.mp4' )\n",
    "    pendulum_video( np.array([3*np.pi/4.0, 0.0]), ts, 'undamped_simple_pendulum02.mp4' )\n"
   ]
  },
  {
   "cell_type": "code",
   "execution_count": 2,
   "metadata": {},
   "outputs": [
    {
     "data": {
      "image/png": "[encoded data removed]",
      "text/plain": [
       "<matplotlib.figure.Figure at 0x10a8d0a10>"
      ]
     },
     "metadata": {},
     "output_type": "display_data"
    }
   ],
   "source": [
    "plot_interesting_orbits()\n"
   ]
  },
  {
   "cell_type": "code",
   "execution_count": 5,
   "metadata": {},
   "outputs": [],
   "source": [
    "ts = np.linspace(0.0, 5.0, 101)\n",
    "q0=np.array([np.pi/2.0, 0.0])"
   ]
  },
  {
   "cell_type": "code",
   "execution_count": 6,
   "metadata": {},
   "outputs": [],
   "source": [
    "qs = odeint(simple_pendulum_deriv, q0, ts, args = (1.0, 9.8, 1.0))"
   ]
  },
  {
   "cell_type": "code",
   "execution_count": 20,
   "metadata": {},
   "outputs": [
    {
     "data": {
      "text/plain": [
       "-0.97976467204083817"
      ]
     },
     "execution_count": 20,
     "metadata": {},
     "output_type": "execute_result"
    }
   ],
   "source": [
    "qs[2,1]\n",
    "\n"
   ]
  },
  {
   "cell_type": "markdown",
   "metadata": {},
   "source": [
    "for n, q in enumerate(qs):\n",
    "    print n, q\n",
    "    plt.clf()\n",
    "    plot_pendulum( q )\n"
   ]
  },
  {
   "cell_type": "code",
   "execution_count": 13,
   "metadata": {},
   "outputs": [
    {
     "data": {
      "image/png": "[encoded data removed]",
      "text/plain": [
       "<matplotlib.figure.Figure at 0x10d285dd0>"
      ]
     },
     "metadata": {},
     "output_type": "display_data"
    }
   ],
   "source": [
    "plt.show()\n"
   ]
  },
  {
   "cell_type": "code",
   "execution_count": null,
   "metadata": {},
   "outputs": [],
   "source": []
  }
 ],
 "metadata": {
  "kernelspec": {
   "display_name": "Python 2",
   "language": "python",
   "name": "python2"
  },
  "language_info": {
   "codemirror_mode": {
    "name": "ipython",
    "version": 2
   },
   "file_extension": ".py",
   "mimetype": "text/x-python",
   "name": "python",
   "nbconvert_exporter": "python",
   "pygments_lexer": "ipython2",
   "version": "2.7.13"
  }
 },
 "nbformat": 4,
 "nbformat_minor": 2
}
